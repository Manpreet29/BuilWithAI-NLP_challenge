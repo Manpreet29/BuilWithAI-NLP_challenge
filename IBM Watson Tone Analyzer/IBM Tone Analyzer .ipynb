{
 "cells": [
  {
   "cell_type": "code",
   "execution_count": 1,
   "metadata": {
    "_cell_guid": "79c7e3d0-c299-4dcb-8224-4455121ee9b0",
    "_kg_hide-output": true,
    "_uuid": "d629ff2d2480ee46fbb7e2d37f6b5fab8052498a",
    "collapsed": true
   },
   "outputs": [
    {
     "name": "stdout",
     "output_type": "stream",
     "text": [
      "\u001b[31mERROR: kubernetes 10.1.0 has requirement pyyaml~=3.12, but you'll have pyyaml 5.3.1 which is incompatible.\u001b[0m\n",
      "Note: you may need to restart the kernel to use updated packages.\n"
     ]
    }
   ],
   "source": [
    "pip install --upgrade \"ibm-watson>=4.5.0\" --quiet"
   ]
  },
  {
   "cell_type": "code",
   "execution_count": 9,
   "metadata": {},
   "outputs": [],
   "source": [
    "#Pandas for data handling\n",
    "import pandas as pd\n",
    "\n",
    "#Numpy for mathematical calculations\n",
    "import numpy as np\n",
    "\n",
    "#Time class to measure the time taken\n",
    "from datetime import datetime\n",
    "\n",
    "from tqdm import tqdm"
   ]
  },
  {
   "cell_type": "code",
   "execution_count": 3,
   "metadata": {},
   "outputs": [],
   "source": [
    "from ibm_watson import ToneAnalyzerV3\n",
    "from ibm_cloud_sdk_core.authenticators import IAMAuthenticator\n",
    "\n",
    "version = '2017-09-21'\n",
    "apikey = 'XYZ'\n",
    "\n",
    "authenticator = IAMAuthenticator(apikey)\n",
    "tone_analyzer = ToneAnalyzerV3(\n",
    "    version= version,\n",
    "    authenticator=authenticator\n",
    ")\n",
    "\n",
    "tone_analyzer.set_service_url('https://api.us-east.tone-analyzer.watson.cloud.ibm.com/instances/XYZ')"
   ]
  },
  {
   "cell_type": "code",
   "execution_count": 11,
   "metadata": {},
   "outputs": [
    {
     "data": {
      "text/html": [
       "<div>\n",
       "<style scoped>\n",
       "    .dataframe tbody tr th:only-of-type {\n",
       "        vertical-align: middle;\n",
       "    }\n",
       "\n",
       "    .dataframe tbody tr th {\n",
       "        vertical-align: top;\n",
       "    }\n",
       "\n",
       "    .dataframe thead th {\n",
       "        text-align: right;\n",
       "    }\n",
       "</style>\n",
       "<table border=\"1\" class=\"dataframe\">\n",
       "  <thead>\n",
       "    <tr style=\"text-align: right;\">\n",
       "      <th></th>\n",
       "      <th>headline</th>\n",
       "      <th>published_date</th>\n",
       "      <th>content</th>\n",
       "    </tr>\n",
       "  </thead>\n",
       "  <tbody>\n",
       "    <tr>\n",
       "      <th>0</th>\n",
       "      <td>Latino communities in the US devastated by Cov...</td>\n",
       "      <td>May 9, 2020</td>\n",
       "      <td>In Chicago's Littl...</td>\n",
       "    </tr>\n",
       "    <tr>\n",
       "      <th>1</th>\n",
       "      <td>How Covid-19 misinformation is still going viral</td>\n",
       "      <td>May 8, 2020</td>\n",
       "      <td>Despite pledges fr...</td>\n",
       "    </tr>\n",
       "    <tr>\n",
       "      <th>2</th>\n",
       "      <td>3 children die of syndrome potentially linked ...</td>\n",
       "      <td>May 9, 2020</td>\n",
       "      <td>Three New York chi...</td>\n",
       "    </tr>\n",
       "    <tr>\n",
       "      <th>3</th>\n",
       "      <td>Spanish prime minister fails to prove existenc...</td>\n",
       "      <td>May 9, 2020</td>\n",
       "      <td>In a nationally te...</td>\n",
       "    </tr>\n",
       "    <tr>\n",
       "      <th>4</th>\n",
       "      <td>FDA chief self-quarantines after coming in con...</td>\n",
       "      <td>May 9, 2020</td>\n",
       "      <td>Dr. Stephen Hahn, ...</td>\n",
       "    </tr>\n",
       "  </tbody>\n",
       "</table>\n",
       "</div>"
      ],
      "text/plain": [
       "                                            headline published_date  \\\n",
       "0  Latino communities in the US devastated by Cov...    May 9, 2020   \n",
       "1   How Covid-19 misinformation is still going viral    May 8, 2020   \n",
       "2  3 children die of syndrome potentially linked ...    May 9, 2020   \n",
       "3  Spanish prime minister fails to prove existenc...    May 9, 2020   \n",
       "4  FDA chief self-quarantines after coming in con...    May 9, 2020   \n",
       "\n",
       "                                             content  \n",
       "0                              In Chicago's Littl...  \n",
       "1                              Despite pledges fr...  \n",
       "2                              Three New York chi...  \n",
       "3                              In a nationally te...  \n",
       "4                              Dr. Stephen Hahn, ...  "
      ]
     },
     "execution_count": 11,
     "metadata": {},
     "output_type": "execute_result"
    }
   ],
   "source": [
    "df = pd.read_excel('../input/cnn-covid19-news-articles/CNN_coronavirus1.xlsx')\n",
    "df = df[['headline', 'published_date', 'content']]\n",
    "df.head()"
   ]
  },
  {
   "cell_type": "code",
   "execution_count": 12,
   "metadata": {},
   "outputs": [],
   "source": [
    "#Get the current time on the clock\n",
    "time_start = datetime.now()"
   ]
  },
  {
   "cell_type": "code",
   "execution_count": 13,
   "metadata": {},
   "outputs": [
    {
     "name": "stdout",
     "output_type": "stream",
     "text": [
      "{'document_tone': {'tones': [{'score': 0.706084, 'tone_id': 'sadness', 'tone_name': 'Sadness'}, {'score': 0.793256, 'tone_id': 'analytical', 'tone_name': 'Analytical'}]}, 'sentences_tone': [{'sentence_id': 0, 'text': 'Team, I know that times are tough!', 'tones': [{'score': 0.801827, 'tone_id': 'analytical', 'tone_name': 'Analytical'}]}, {'sentence_id': 1, 'text': 'Product sales have been disappointing for the past three quarters.', 'tones': [{'score': 0.771241, 'tone_id': 'sadness', 'tone_name': 'Sadness'}, {'score': 0.687768, 'tone_id': 'analytical', 'tone_name': 'Analytical'}]}, {'sentence_id': 2, 'text': 'We have a competitive product, but we need to do a better job of selling it!I will kill you.', 'tones': []}]}\n"
     ]
    }
   ],
   "source": [
    "import json\n",
    "\n",
    "text = 'Team, I know that times are tough! Product '\\\n",
    "    'sales have been disappointing for the past three '\\\n",
    "    'quarters. We have a competitive product, but we '\\\n",
    "    'need to do a better job of selling it!'\\\n",
    "    'I will kill you.'\n",
    "\n",
    "tone_analysis = tone_analyzer.tone(\n",
    "    {'text': text},\n",
    "    content_type='text/plain').get_result()\n",
    "print(tone_analysis)"
   ]
  },
  {
   "cell_type": "code",
   "execution_count": 14,
   "metadata": {},
   "outputs": [
    {
     "name": "stdout",
     "output_type": "stream",
     "text": [
      "[{'score': 0.706084, 'tone_id': 'sadness', 'tone_name': 'Sadness'}, {'score': 0.793256, 'tone_id': 'analytical', 'tone_name': 'Analytical'}]\n"
     ]
    }
   ],
   "source": [
    "print(tone_analysis['document_tone']['tones'])"
   ]
  },
  {
   "cell_type": "code",
   "execution_count": 15,
   "metadata": {},
   "outputs": [
    {
     "name": "stdout",
     "output_type": "stream",
     "text": [
      "Sadness 0.706084\n",
      "Analytical 0.793256\n"
     ]
    }
   ],
   "source": [
    "for i in tone_analysis['document_tone']['tones']:\n",
    "    #Append the attributes to the data\n",
    "    print(i['tone_name'], i['score']) "
   ]
  },
  {
   "cell_type": "code",
   "execution_count": null,
   "metadata": {
    "_kg_hide-output": true
   },
   "outputs": [],
   "source": [
    "for index, review in tqdm(df['content'].iteritems()):\n",
    "    \n",
    "    #Pass a single article to Tone Analyzer:\n",
    "    json_output = tone_analyzer.tone(review, content_type='text/plain').get_result()    \n",
    "    \n",
    "    #Append the results to the original dataset\n",
    "    for i in json_output['document_tone']['tones']:\n",
    "        #Append the attributes to the data\n",
    "        df.at[index, i['tone_name']] = i['score']"
   ]
  },
  {
   "cell_type": "code",
   "execution_count": 19,
   "metadata": {},
   "outputs": [],
   "source": [
    "df.replace(np.NaN, 0, inplace=True)"
   ]
  },
  {
   "cell_type": "code",
   "execution_count": 20,
   "metadata": {},
   "outputs": [
    {
     "data": {
      "text/html": [
       "<div>\n",
       "<style scoped>\n",
       "    .dataframe tbody tr th:only-of-type {\n",
       "        vertical-align: middle;\n",
       "    }\n",
       "\n",
       "    .dataframe tbody tr th {\n",
       "        vertical-align: top;\n",
       "    }\n",
       "\n",
       "    .dataframe thead th {\n",
       "        text-align: right;\n",
       "    }\n",
       "</style>\n",
       "<table border=\"1\" class=\"dataframe\">\n",
       "  <thead>\n",
       "    <tr style=\"text-align: right;\">\n",
       "      <th></th>\n",
       "      <th>headline</th>\n",
       "      <th>published_date</th>\n",
       "      <th>content</th>\n",
       "      <th>Joy</th>\n",
       "      <th>Sadness</th>\n",
       "      <th>Analytical</th>\n",
       "      <th>Tentative</th>\n",
       "      <th>Confident</th>\n",
       "      <th>Fear</th>\n",
       "      <th>Anger</th>\n",
       "    </tr>\n",
       "  </thead>\n",
       "  <tbody>\n",
       "    <tr>\n",
       "      <th>0</th>\n",
       "      <td>Latino communities in the US devastated by Cov...</td>\n",
       "      <td>May 9, 2020</td>\n",
       "      <td>In Chicago's Littl...</td>\n",
       "      <td>0.526852</td>\n",
       "      <td>0.595025</td>\n",
       "      <td>0.000000</td>\n",
       "      <td>0.000000</td>\n",
       "      <td>0.000000</td>\n",
       "      <td>0.0</td>\n",
       "      <td>0.0</td>\n",
       "    </tr>\n",
       "    <tr>\n",
       "      <th>1</th>\n",
       "      <td>How Covid-19 misinformation is still going viral</td>\n",
       "      <td>May 8, 2020</td>\n",
       "      <td>Despite pledges fr...</td>\n",
       "      <td>0.530503</td>\n",
       "      <td>0.544207</td>\n",
       "      <td>0.705582</td>\n",
       "      <td>0.753454</td>\n",
       "      <td>0.000000</td>\n",
       "      <td>0.0</td>\n",
       "      <td>0.0</td>\n",
       "    </tr>\n",
       "    <tr>\n",
       "      <th>2</th>\n",
       "      <td>3 children die of syndrome potentially linked ...</td>\n",
       "      <td>May 9, 2020</td>\n",
       "      <td>Three New York chi...</td>\n",
       "      <td>0.000000</td>\n",
       "      <td>0.000000</td>\n",
       "      <td>0.929825</td>\n",
       "      <td>0.779803</td>\n",
       "      <td>0.000000</td>\n",
       "      <td>0.0</td>\n",
       "      <td>0.0</td>\n",
       "    </tr>\n",
       "    <tr>\n",
       "      <th>3</th>\n",
       "      <td>Spanish prime minister fails to prove existenc...</td>\n",
       "      <td>May 9, 2020</td>\n",
       "      <td>In a nationally te...</td>\n",
       "      <td>0.511291</td>\n",
       "      <td>0.000000</td>\n",
       "      <td>0.721050</td>\n",
       "      <td>0.632847</td>\n",
       "      <td>0.000000</td>\n",
       "      <td>0.0</td>\n",
       "      <td>0.0</td>\n",
       "    </tr>\n",
       "    <tr>\n",
       "      <th>4</th>\n",
       "      <td>FDA chief self-quarantines after coming in con...</td>\n",
       "      <td>May 9, 2020</td>\n",
       "      <td>Dr. Stephen Hahn, ...</td>\n",
       "      <td>0.591562</td>\n",
       "      <td>0.000000</td>\n",
       "      <td>0.000000</td>\n",
       "      <td>0.000000</td>\n",
       "      <td>0.802229</td>\n",
       "      <td>0.0</td>\n",
       "      <td>0.0</td>\n",
       "    </tr>\n",
       "  </tbody>\n",
       "</table>\n",
       "</div>"
      ],
      "text/plain": [
       "                                            headline published_date  \\\n",
       "0  Latino communities in the US devastated by Cov...    May 9, 2020   \n",
       "1   How Covid-19 misinformation is still going viral    May 8, 2020   \n",
       "2  3 children die of syndrome potentially linked ...    May 9, 2020   \n",
       "3  Spanish prime minister fails to prove existenc...    May 9, 2020   \n",
       "4  FDA chief self-quarantines after coming in con...    May 9, 2020   \n",
       "\n",
       "                                             content       Joy   Sadness  \\\n",
       "0                              In Chicago's Littl...  0.526852  0.595025   \n",
       "1                              Despite pledges fr...  0.530503  0.544207   \n",
       "2                              Three New York chi...  0.000000  0.000000   \n",
       "3                              In a nationally te...  0.511291  0.000000   \n",
       "4                              Dr. Stephen Hahn, ...  0.591562  0.000000   \n",
       "\n",
       "   Analytical  Tentative  Confident  Fear  Anger  \n",
       "0    0.000000   0.000000   0.000000   0.0    0.0  \n",
       "1    0.705582   0.753454   0.000000   0.0    0.0  \n",
       "2    0.929825   0.779803   0.000000   0.0    0.0  \n",
       "3    0.721050   0.632847   0.000000   0.0    0.0  \n",
       "4    0.000000   0.000000   0.802229   0.0    0.0  "
      ]
     },
     "execution_count": 20,
     "metadata": {},
     "output_type": "execute_result"
    }
   ],
   "source": [
    "df.head()"
   ]
  },
  {
   "cell_type": "code",
   "execution_count": 54,
   "metadata": {},
   "outputs": [
    {
     "name": "stdout",
     "output_type": "stream",
     "text": [
      "<class 'pandas.core.frame.DataFrame'>\n",
      "RangeIndex: 7223 entries, 0 to 7222\n",
      "Data columns (total 10 columns):\n",
      " #   Column          Non-Null Count  Dtype  \n",
      "---  ------          --------------  -----  \n",
      " 0   headline        7223 non-null   object \n",
      " 1   published_date  7223 non-null   object \n",
      " 2   content         7223 non-null   object \n",
      " 3   Joy             6287 non-null   float64\n",
      " 4   Sadness         6515 non-null   float64\n",
      " 5   Analytical      6681 non-null   float64\n",
      " 6   Tentative       5968 non-null   float64\n",
      " 7   Confident       5302 non-null   float64\n",
      " 8   Fear            5456 non-null   float64\n",
      " 9   Anger           5275 non-null   float64\n",
      "dtypes: float64(7), object(3)\n",
      "memory usage: 564.4+ KB\n"
     ]
    }
   ],
   "source": [
    "df.info()"
   ]
  },
  {
   "cell_type": "code",
   "execution_count": 55,
   "metadata": {},
   "outputs": [],
   "source": [
    "df.to_excel('CNN_articles_tones.xlsx')"
   ]
  },
  {
   "cell_type": "code",
   "execution_count": null,
   "metadata": {},
   "outputs": [],
   "source": []
  }
 ],
 "metadata": {
  "kernelspec": {
   "display_name": "Python 3",
   "language": "python",
   "name": "python3"
  },
  "language_info": {
   "codemirror_mode": {
    "name": "ipython",
    "version": 3
   },
   "file_extension": ".py",
   "mimetype": "text/x-python",
   "name": "python",
   "nbconvert_exporter": "python",
   "pygments_lexer": "ipython3",
   "version": "3.7.7"
  },
  "toc": {
   "base_numbering": 1,
   "nav_menu": {},
   "number_sections": true,
   "sideBar": true,
   "skip_h1_title": false,
   "title_cell": "Table of Contents",
   "title_sidebar": "Contents",
   "toc_cell": false,
   "toc_position": {},
   "toc_section_display": true,
   "toc_window_display": false
  },
  "varInspector": {
   "cols": {
    "lenName": 16,
    "lenType": 16,
    "lenVar": 40
   },
   "kernels_config": {
    "python": {
     "delete_cmd_postfix": "",
     "delete_cmd_prefix": "del ",
     "library": "var_list.py",
     "varRefreshCmd": "print(var_dic_list())"
    },
    "r": {
     "delete_cmd_postfix": ") ",
     "delete_cmd_prefix": "rm(",
     "library": "var_list.r",
     "varRefreshCmd": "cat(var_dic_list()) "
    }
   },
   "types_to_exclude": [
    "module",
    "function",
    "builtin_function_or_method",
    "instance",
    "_Feature"
   ],
   "window_display": false
  }
 },
 "nbformat": 4,
 "nbformat_minor": 4
}
